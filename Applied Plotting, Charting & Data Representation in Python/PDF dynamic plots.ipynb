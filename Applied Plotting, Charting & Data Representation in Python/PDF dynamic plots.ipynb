{
 "cells": [
  {
   "cell_type": "markdown",
   "metadata": {},
   "source": [
    "# Plot Probability Distribution Functions"
   ]
  },
  {
   "cell_type": "markdown",
   "metadata": {},
   "source": [
    "## Plot the main probability functions with matplotlib and seaborn libraries, with parameters interaction"
   ]
  },
  {
   "cell_type": "markdown",
   "metadata": {},
   "source": [
    "### The probability functions are:"
   ]
  },
  {
   "cell_type": "markdown",
   "metadata": {},
   "source": [
    "1 - Normal\n",
    "\n",
    "2 - Gamma\n",
    "\n",
    "3 - Exponential\n",
    "\n",
    "4 - Uniform\n",
    "\n",
    "5 - Logistic\n",
    "\n",
    "6 - Poisson\n",
    "\n",
    "7 - Chi2\n",
    "\n",
    "8 - Student t\n",
    "\n",
    "9 - Binomial\n",
    "\n",
    "10 - Weibull"
   ]
  },
  {
   "cell_type": "markdown",
   "metadata": {},
   "source": [
    "### Import libraries"
   ]
  },
  {
   "cell_type": "code",
   "execution_count": 12,
   "metadata": {},
   "outputs": [],
   "source": [
    "from ipywidgets import interact\n",
    "import matplotlib.pyplot as plt\n",
    "import numpy as np\n",
    "import seaborn as sns\n",
    "\n",
    "%matplotlib notebook\n",
    "\n",
    "sns.set_style('whitegrid')"
   ]
  },
  {
   "cell_type": "markdown",
   "metadata": {},
   "source": [
    "# Matplotlib + Seaborn"
   ]
  },
  {
   "cell_type": "markdown",
   "metadata": {},
   "source": [
    "## 1 - Normal Distribution"
   ]
  },
  {
   "cell_type": "markdown",
   "metadata": {},
   "source": [
    "In probability theory, a <b>normal</b> (or <b>Gaussian</b> or Gauss or Laplace–Gauss) distribution is a type of <i>continuous probability distribution</i> for a real-valued <i>random variable</i>.\n",
    "The probability density function of the normal distribution, first derived by De Moivre and 200 years later by both Gauss and Laplace independently, is often called the <b>bell curve</b> because of its characteristic shape (see KDE below). Ahead the PDF (probability distribution function) and CDF (cumulative distribution function) as functios of the mean ($\\mu$) and variance ($\\sigma^2$):\n",
    "\n",
    "$$\\begin{align} PDF = \\frac{1}{\\sigma\\sqrt{2\\pi}}e^{\\frac{1}{2}(\\frac{x-\\mu}{\\sigma})^2} \\end{align}$$\n",
    "\n",
    "$$ CDF = \\frac{1}{2}[1+erf(\\frac{x-\\mu}{\\sigma\\sqrt{2}})] $$\n",
    "\n",
    "The normal distributions <i>occurs often in nature</i>. For example, it describes the commonly occurring distribution of samples influenced by a large number of tiny, random disturbances, each with its own unique distribution, being important in <i>statistics, often used in the natural and social sciences</i> to <b>represent real-valued random variables</b> whose <b>distributions are not known</b>.\n",
    "\n",
    "[1] https://en.wikipedia.org/wiki/Normal_distribution\n",
    "\n",
    "[2] https://numpy.org/doc/1.18/reference/random/generated/numpy.random.Generator.normal.html#numpy.random.Generator.normal"
   ]
  },
  {
   "cell_type": "code",
   "execution_count": 13,
   "metadata": {},
   "outputs": [
    {
     "data": {
      "application/vnd.jupyter.widget-view+json": {
       "model_id": "f17fb4a7700640f498c44d0102e62d75",
       "version_major": 2,
       "version_minor": 0
      },
      "text/plain": [
       "interactive(children=(IntSlider(value=0, description='loc', max=2, min=-2), FloatSlider(value=2.0, description…"
      ]
     },
     "metadata": {},
     "output_type": "display_data"
    },
    {
     "data": {
      "text/plain": [
       "<function __main__.normal_dist(loc, sigma, size)>"
      ]
     },
     "execution_count": 13,
     "metadata": {},
     "output_type": "execute_result"
    }
   ],
   "source": [
    "def normal_dist(loc, sigma, size):\n",
    "    x = np.random.normal(loc, sigma, size)\n",
    "    \n",
    "    fig, (ax1, ax2) = plt.subplots(1, 2, figsize=(10,6))\n",
    "    \n",
    "    ax1.hist(x, bins=20, color='blue', alpha=.5)\n",
    "    ax1.set_ylabel('Sample Values')\n",
    "    ax1.set_title('Normal Distribution')\n",
    "    \n",
    "    sns.distplot(x, ax=ax2, bins=20, color='blue')\n",
    "    ax2.set_ylabel('Probability')\n",
    "    ax2.set_title('Normal Distribution + KDE')\n",
    "    \n",
    "    plt.draw()\n",
    "    \n",
    "interact(normal_dist, loc=(-2,2,1), sigma=(0,5,0.05), size=(10,500,10))"
   ]
  },
  {
   "cell_type": "markdown",
   "metadata": {},
   "source": [
    "## 2 - Gamma"
   ]
  },
  {
   "cell_type": "markdown",
   "metadata": {},
   "source": [
    "In probability theory and statistics, the <b>gamma distribution</b> is a <b>two-parameter</b> family of <i>continuous probability distributions</i>. The exponential distribution, Erlang distribution, and chi-squared distribution are special cases of the gamma distribution. Ahead the PDF and CDF as functions of shape ($k$) and scale ($\\theta$):\n",
    "\n",
    "$$\\begin{align} PDF = \\frac{1}{\\Gamma(k)\\theta^{k}} x^{k-1} e^{\\frac{-z}{\\theta}} \\end{align}$$\n",
    "\n",
    "$$ CDf = \\frac{1}{\\Gamma(k)\\theta^{k}} \\gamma(k,\\frac{x}{\\theta}) $$\n",
    "\n",
    "The Gamma distribution is often <i>used</i> to model the <b>times to failure of electronic components</b>, and arises naturally in processes for which the waiting times between Poisson distributed events are relevant.\n",
    "\n",
    "[1] https://en.wikipedia.org/wiki/Gamma_distribution\n",
    "\n",
    "[2] https://numpy.org/doc/1.18/reference/random/generated/numpy.random.Generator.gamma.html#numpy.random.Generator.gamma"
   ]
  },
  {
   "cell_type": "code",
   "execution_count": 3,
   "metadata": {},
   "outputs": [
    {
     "data": {
      "application/vnd.jupyter.widget-view+json": {
       "model_id": "9aeb35692ed14ef082b8d7dec99b2c04",
       "version_major": 2,
       "version_minor": 0
      },
      "text/plain": [
       "interactive(children=(FloatSlider(value=2.0, description='shape', max=5.0, step=0.05), FloatSlider(value=2.0, …"
      ]
     },
     "metadata": {},
     "output_type": "display_data"
    },
    {
     "data": {
      "text/plain": [
       "<function __main__.gamma_dist(shape, scale, size)>"
      ]
     },
     "execution_count": 3,
     "metadata": {},
     "output_type": "execute_result"
    }
   ],
   "source": [
    "def gamma_dist(shape, scale, size):\n",
    "    x = np.random.gamma(shape, scale, size)\n",
    "    \n",
    "    fig, (ax1, ax2) = plt.subplots(1, 2, figsize=(10,6))\n",
    "    \n",
    "    ax1.hist(x, bins=20, color='green', alpha=.7)\n",
    "    ax1.set_ylabel('Sample Values')\n",
    "    ax1.set_title('Gamma Distribution')\n",
    "    \n",
    "    sns.distplot(x, ax=ax2, bins=20, color='green')\n",
    "    ax2.set_ylabel('Probability')\n",
    "    ax2.set_title('Gamma Distribution + KDE')\n",
    "    \n",
    "    plt.draw()\n",
    "\n",
    "interact(gamma_dist, shape=(0,5,0.05), scale=(0,5,0.05), size=(10,500,10))"
   ]
  },
  {
   "cell_type": "markdown",
   "metadata": {},
   "source": [
    "## 3 - Exponential"
   ]
  },
  {
   "cell_type": "markdown",
   "metadata": {},
   "source": [
    "In probability theory and statistics, the <b>exponential distribution</b> is the probability distribution of the time between events in a Poisson point process, i.e. a <i>process in which events occur continuously and independently at a constant average rate</i>. Ahead the PDF and CDF as functions of the rate ($\\lambda$):\n",
    "\n",
    "$$ PDF = \\lambda e^{-\\lambda x} $$\n",
    "\n",
    "$$ CDF = 1 - e^{-\\lambda x} $$\n",
    "\n",
    "The exponential distribution is a <i>continuous analogue of the geometric distribution</i>. It describes many common situations, such as the <i>size of raindrops measured over many rainstorms, or the time between page requests to Wikipedia</i>.\n",
    "\n",
    "[1] https://en.wikipedia.org/wiki/Exponential_distribution\n",
    "\n",
    "[2] https://numpy.org/doc/1.18/reference/random/generated/numpy.random.Generator.exponential.html#numpy.random.Generator.exponential"
   ]
  },
  {
   "cell_type": "code",
   "execution_count": 4,
   "metadata": {},
   "outputs": [
    {
     "data": {
      "application/vnd.jupyter.widget-view+json": {
       "model_id": "124a94a1d41744069a1ff569e4e0c659",
       "version_major": 2,
       "version_minor": 0
      },
      "text/plain": [
       "interactive(children=(FloatSlider(value=2.0, description='scale', max=5.0, step=0.05), IntSlider(value=250, de…"
      ]
     },
     "metadata": {},
     "output_type": "display_data"
    },
    {
     "data": {
      "text/plain": [
       "<function __main__.exponential_dist(scale, size)>"
      ]
     },
     "execution_count": 4,
     "metadata": {},
     "output_type": "execute_result"
    }
   ],
   "source": [
    "def exponential_dist(scale, size):\n",
    "    x = np.random.exponential(scale, size)\n",
    "    \n",
    "    fig, (ax1, ax2) = plt.subplots(1, 2, figsize=(10,6))\n",
    "    \n",
    "    ax1.hist(x, bins=20, color='orange', alpha=.8)\n",
    "    ax1.set_ylabel('Sample Values')\n",
    "    ax1.set_title('Exponential Distribution')\n",
    "    \n",
    "    sns.distplot(x, ax=ax2, color='orange', bins=20)\n",
    "    ax2.set_ylabel('Probability')\n",
    "    ax2.set_title('Exponential Distribution + KDE')\n",
    "    \n",
    "    plt.draw()\n",
    "\n",
    "interact(exponential_dist, scale=(0,5,0.05), size=(10,500,10))"
   ]
  },
  {
   "cell_type": "markdown",
   "metadata": {},
   "source": [
    "## 4 - Uniform"
   ]
  },
  {
   "cell_type": "markdown",
   "metadata": {},
   "source": [
    "In probability theory and statistics, the <b>continuous uniform distribution</b> or rectangular distribution is a family of <i>symmetric probability distributions</i>. Ahead the PDF and CDF as functions of the interval [a,b]:\n",
    "\n",
    "$$ PDF = \\begin{cases} \\frac{1}{b-a} \\rightarrow x \\in [a,b] \\\\ 0 \\rightarrow otherwise \\end{cases} $$\n",
    "\n",
    "$$ CDF =  \\begin{cases} 0 \\rightarrow x < a \\\\ \\frac{x-a}{b-a} \\rightarrow x \\in [a,b] \\\\ 1 \\rightarrow x > b\\end{cases} $$\n",
    "\n",
    "The distribution <i>describes</i> an experiment where there is an <i>arbitrary outcome that lies between certain bounds</i> [low and high below). The difference between the bounds defines the interval length; all intervals of the same length on the distribution's support are equally probable.\n",
    "\n",
    "[1] https://en.wikipedia.org/wiki/Uniform_distribution_(continuous)\n",
    "\n",
    "[2] https://numpy.org/doc/1.18/reference/random/generated/numpy.random.Generator.uniform.html#numpy.random.Generator.uniform"
   ]
  },
  {
   "cell_type": "code",
   "execution_count": 5,
   "metadata": {},
   "outputs": [
    {
     "data": {
      "application/vnd.jupyter.widget-view+json": {
       "model_id": "4824e3a431b24981b2aa87c4a3834fe8",
       "version_major": 2,
       "version_minor": 0
      },
      "text/plain": [
       "interactive(children=(FloatSlider(value=0.0, description='low', max=5.0, min=-5.0), FloatSlider(value=2.0, des…"
      ]
     },
     "metadata": {},
     "output_type": "display_data"
    },
    {
     "data": {
      "text/plain": [
       "<function __main__.uniform_dist(low, high, size)>"
      ]
     },
     "execution_count": 5,
     "metadata": {},
     "output_type": "execute_result"
    }
   ],
   "source": [
    "def uniform_dist(low, high, size):\n",
    "    x = np.random.uniform(low, high, size)\n",
    "    \n",
    "    fig, (ax1, ax2) = plt.subplots(1, 2, figsize=(10,6))\n",
    "    \n",
    "    ax1.hist(x, bins=20, color='orangered', alpha=.7)\n",
    "    ax1.set_ylabel('Sample Values')\n",
    "    ax1.set_title('Uniform Distribution')\n",
    "    \n",
    "    sns.distplot(x, ax=ax2, bins=20, color='orangered')\n",
    "    ax2.set_ylabel('Probability')\n",
    "    ax2.set_title('Uniform Distribution + KDE')\n",
    "    \n",
    "    plt.draw()\n",
    "\n",
    "interact(uniform_dist, low=(-5,5,0.1), high=(0,5,0.1), size=(10,500,10))"
   ]
  },
  {
   "cell_type": "markdown",
   "metadata": {},
   "source": [
    "## 5 - Logistic"
   ]
  },
  {
   "cell_type": "markdown",
   "metadata": {},
   "source": [
    "In probability theory and statistics, the <b>logistic distribution</b> is a <i>continuous probability distribution</i>. Its <i>cumulative distribution function</i> is the logistic function, which appears in logistic regression and feedforward neural networks. It resembles the normal distribution in shape but has heavier tails (higher kurtosis). Ahead the PDF and CDF as functions of location ($\\mu$) and scale ($s>0$):\n",
    "\n",
    "$$ PDF = \\frac{e^{(x-\\mu)/s}}{s(1+e^{-(x-\\mu)/s})^2} $$\n",
    "\n",
    "$$ CDF = \\frac{1}{(1+e^{(x-\\mu)/s}} $$\n",
    "\n",
    "The Logistic distribution is used in Extreme Value problems where it can act as a mixture of Gumbel distributions, in Epidemiology, and by the World Chess Federation (FIDE) where it is used in the Elo ranking system, assuming the performance of each player is a logistically distributed random variable.\n",
    "\n",
    "[1] https://en.wikipedia.org/wiki/Logistic_distribution\n",
    "\n",
    "[2] https://numpy.org/doc/1.18/reference/random/generated/numpy.random.Generator.logistic.html#numpy.random.Generator.logistic"
   ]
  },
  {
   "cell_type": "code",
   "execution_count": 6,
   "metadata": {},
   "outputs": [
    {
     "data": {
      "application/vnd.jupyter.widget-view+json": {
       "model_id": "c19a05febc414264951253acc55b77bb",
       "version_major": 2,
       "version_minor": 0
      },
      "text/plain": [
       "interactive(children=(FloatSlider(value=0.0, description='loc', max=5.0, min=-5.0), FloatSlider(value=2.0, des…"
      ]
     },
     "metadata": {},
     "output_type": "display_data"
    },
    {
     "data": {
      "text/plain": [
       "<function __main__.logistic_dist(loc, scale, size)>"
      ]
     },
     "execution_count": 6,
     "metadata": {},
     "output_type": "execute_result"
    }
   ],
   "source": [
    "def logistic_dist(loc, scale, size):\n",
    "    x = np.random.logistic(loc, scale, size)\n",
    "    \n",
    "    fig, (ax1, ax2) = plt.subplots(1, 2, figsize=(10, 6))\n",
    "    \n",
    "    ax1.hist(x, bins=20, color='forestgreen', alpha=.7)\n",
    "    ax1.set_ylabel('Sample Distribution')\n",
    "    ax1.set_title('Logistic Distribution')\n",
    "    \n",
    "    sns.distplot(x, bins=20, color='forestgreen', ax=ax2)\n",
    "    ax2.set_ylabel('Probability')\n",
    "    ax2.set_title('Logistic Distribution + KDE')\n",
    "    \n",
    "    plt.draw()\n",
    "\n",
    "interact(logistic_dist, loc=(-5,5,0.1), scale=(0,5,0.1), size=(10,500,10))"
   ]
  },
  {
   "cell_type": "markdown",
   "metadata": {},
   "source": [
    "## 6 - Poisson"
   ]
  },
  {
   "cell_type": "markdown",
   "metadata": {},
   "source": [
    "In probability theory and statistics, the <b>Poisson distribution</b> is a <i>discrete probability distribution</i> that expresses the <b>probability</b> of a given <b>number of events</b> occurring in a <b>fixed interval</b> of <b>time</b> or <b>space</b> if these events occur with a known constant mean rate and independently of the time since the last event. Ahead the PMF (prob. mass function) and CDF as functions of the rate ($\\lambda$) and number of occurences ($k$):\n",
    "\n",
    "$$ PMF = \\frac{\\lambda^k e^\\lambda}{k!} $$\n",
    "\n",
    "$$ CDF = \\frac{\\Gamma(\\left\\lfloor k+1 \\right\\rfloor,\\lambda)}{\\left\\lfloor k \\right\\rfloor!} \\rightarrow k \\ge 0$$\n",
    "\n",
    "The Poisson distribution can also be used for the number of events in other specified intervals such as distance, area or volume.\n",
    "\n",
    "[1] https://en.wikipedia.org/wiki/Poisson_distribution\n",
    "\n",
    "[2] https://numpy.org/doc/1.18/reference/random/generated/numpy.random.Generator.poisson.html#numpy.random.Generator.poisson"
   ]
  },
  {
   "cell_type": "code",
   "execution_count": 7,
   "metadata": {},
   "outputs": [
    {
     "data": {
      "application/vnd.jupyter.widget-view+json": {
       "model_id": "4caf4258a15b4f729f8c5a800c2d0e86",
       "version_major": 2,
       "version_minor": 0
      },
      "text/plain": [
       "interactive(children=(FloatSlider(value=5.0, description='lam', max=10.0), IntSlider(value=250, description='s…"
      ]
     },
     "metadata": {},
     "output_type": "display_data"
    },
    {
     "data": {
      "text/plain": [
       "<function __main__.poisson_dist(lam, size)>"
      ]
     },
     "execution_count": 7,
     "metadata": {},
     "output_type": "execute_result"
    }
   ],
   "source": [
    "def poisson_dist(lam, size):\n",
    "    x = np.random.poisson(lam, size)\n",
    "    \n",
    "    fig, (ax1, ax2) = plt.subplots(1, 2, figsize=(10, 6))\n",
    "    \n",
    "    ax1.hist(x, bins=20, color='firebrick', alpha=.7)\n",
    "    ax1.set_ylabel('Sample Values')\n",
    "    ax1.set_title('Poisson Distribution')\n",
    "    \n",
    "    sns.distplot(x, bins=20, color='firebrick', ax=ax2)\n",
    "    ax2.set_ylabel('Probability')\n",
    "    ax2.set_title('Poisson Distribution + KDE')\n",
    "    \n",
    "    plt.draw()\n",
    "\n",
    "interact(poisson_dist, lam=(0,10,0.1), size=(10,500,10))"
   ]
  },
  {
   "cell_type": "markdown",
   "metadata": {},
   "source": [
    "## 7 - Chi2"
   ]
  },
  {
   "cell_type": "markdown",
   "metadata": {},
   "source": [
    "In probability theory and statistics, the <b>chi-square distribution</b> (also chi-squared or $\\chi^2$-distribution) with <b>k degrees of freedom</b> is the distribution of a <i>sum of the squares of k independent standard normal random variables</i>. The chi-square distribution is a <i>special case of the gamma distribution</i> and is one of the <b>most widely used probability distributions</b> in <b>inferential statistics</b>, notably in <b>hypothesis testing</b> and in <b>construction of confidence intervals</b>. Ahead the PDF and CDF as functions of the degrees of freedom ($k$):\n",
    "\n",
    "$$ PDF = \\frac{1}{2^{\\frac{k}{2}}\\Gamma(k/2)} x^{(k/2)-1} e^{-x/2} $$\n",
    "\n",
    "$$ CDF = \\frac{1}{\\Gamma(k/2)} \\gamma(\\frac{k}{2}, \\frac{x}{2})$$\n",
    "\n",
    "[1] https://en.wikipedia.org/wiki/Chi-square_distribution\n",
    "\n",
    "[2] https://numpy.org/doc/1.18/reference/random/generated/numpy.random.Generator.chisquare.html#numpy.random.Generator.chisquare"
   ]
  },
  {
   "cell_type": "code",
   "execution_count": 8,
   "metadata": {},
   "outputs": [
    {
     "data": {
      "application/vnd.jupyter.widget-view+json": {
       "model_id": "aef1132435f74a76a656b70c2f0faad7",
       "version_major": 2,
       "version_minor": 0
      },
      "text/plain": [
       "interactive(children=(FloatSlider(value=5.0, description='df', max=10.0), IntSlider(value=250, description='si…"
      ]
     },
     "metadata": {},
     "output_type": "display_data"
    },
    {
     "data": {
      "text/plain": [
       "<function __main__.chi2_dist(df, size)>"
      ]
     },
     "execution_count": 8,
     "metadata": {},
     "output_type": "execute_result"
    }
   ],
   "source": [
    "def chi2_dist(df, size):\n",
    "    x = np.random.chisquare(df, size)\n",
    "    \n",
    "    fig, (ax1, ax2) = plt.subplots(1, 2, figsize=(10, 6))\n",
    "    \n",
    "    ax1.hist(x, bins=20, color='darkslategrey', alpha=.7)\n",
    "    ax1.set_ylabel('Sample Values')\n",
    "    ax1.set_title('Chi2 Distribution')\n",
    "    \n",
    "    sns.distplot(x, bins=20, ax=ax2, color='darkslategrey')\n",
    "    ax2.set_ylabel('Probability')\n",
    "    ax2.set_title('Chi2 Distribution + KDE')\n",
    "    \n",
    "    plt.draw()\n",
    "\n",
    "interact(chi2_dist, df=(0,10,0.1), size=(10,500,10))"
   ]
  },
  {
   "cell_type": "markdown",
   "metadata": {},
   "source": [
    "## 8 - Student t"
   ]
  },
  {
   "cell_type": "markdown",
   "metadata": {},
   "source": [
    "In probability and statistics, <b>Student's t-distribution</b> (or simply the t-distribution) is any member of a family of <i>continuous probability distributions</i> that arises when <b>estimating the mean of a normally distributed population</b> in situations where the <b>sample size is small</b> (usually <i>less than 30 samples</i>) and the population <b>standard deviation is unknown</b>. Ahead the PDF and CDF as functions of the number of degrees of freedom ($\\nu$):\n",
    "\n",
    "$$ PDF = \\frac{\\Gamma(\\frac{\\nu+1}{2})}{\\sqrt{\\nu \\pi} \\Gamma(\\frac{\\nu}{2})} (1+\\frac{x^2}{\\nu})^{\\frac{-\\nu+1}{2}} $$\n",
    "\n",
    "$$ CDF = \\frac{1}{2} + x\\Gamma(\\frac{\\nu+1}{2}) * \\frac{_{2}F_{1}(\\frac{1}{2};\\frac{\\nu+1}{2};\\frac{3}{2};\\frac{-x^2}{\\nu})}{\\sqrt{\\nu\\pi}\\Gamma(\\nu/2)} \\rightarrow _{2}F_{1} = hypergeometric function $$\n",
    "\n",
    "\n",
    "The t test is based on an assumption that the data come from a Normal distribution. The t test provides a way to test whether the sample mean (that is the mean calculated from the data) is a good estimate of the true mean.\n",
    "\n",
    "[1] https://en.wikipedia.org/wiki/Student's_t-distribution\n",
    "\n",
    "[2] https://numpy.org/doc/1.18/reference/random/generated/numpy.random.Generator.standard_t.html#numpy.random.Generator.standard_t"
   ]
  },
  {
   "cell_type": "code",
   "execution_count": 9,
   "metadata": {},
   "outputs": [
    {
     "data": {
      "application/vnd.jupyter.widget-view+json": {
       "model_id": "c4e4f919c58e4c63b6112e0209413c87",
       "version_major": 2,
       "version_minor": 0
      },
      "text/plain": [
       "interactive(children=(FloatSlider(value=5.0, description='df', max=10.0), IntSlider(value=250, description='si…"
      ]
     },
     "metadata": {},
     "output_type": "display_data"
    },
    {
     "data": {
      "text/plain": [
       "<function __main__.t_dist(df, size)>"
      ]
     },
     "execution_count": 9,
     "metadata": {},
     "output_type": "execute_result"
    }
   ],
   "source": [
    "def t_dist(df, size):\n",
    "    x = np.random.standard_t(df, size)\n",
    "    \n",
    "    fig, (ax1, ax2) = plt.subplots(1, 2, figsize=(10, 6))\n",
    "    \n",
    "    ax1.hist(x, bins=20, color='royalblue', alpha=.8)\n",
    "    ax1.set_ylabel('Sample Values')\n",
    "    ax1.set_title('Student-t Distribution')\n",
    "    \n",
    "    sns.distplot(x, bins=20, ax=ax2, color='royalblue')\n",
    "    ax2.set_ylabel('Probability')\n",
    "    ax2.set_title('Student-t Distribution + KDE')\n",
    "    \n",
    "    plt.draw()\n",
    "\n",
    "interact(t_dist, df=(0,10,0.1), size=(10,500,10))"
   ]
  },
  {
   "cell_type": "markdown",
   "metadata": {},
   "source": [
    "## 9 - Binomial"
   ]
  },
  {
   "cell_type": "markdown",
   "metadata": {},
   "source": [
    "In probability theory and statistics, the <b>binomial distribution</b> with parameters $n$ and $p$ is the <i>discrete probability distribution</i> of the <b>number of successes in a sequence of n independent experiments</b>, each asking a <i>yes–no question</i>, and each with its own boolean-valued outcome: success/yes/true/one (with probability p) or failure/no/false/zero (with probability q = 1 − p). Ahead the PMF and CDF as functions of number of trials ($n$), number of successes ($k$), probability of success ($p$) and $q=1-p$:\n",
    "\n",
    "$$ PMF = \\left(\\begin{array}{cc} n \\\\ k \\end{array}\\right) p^k q^{n-k}$$\n",
    "\n",
    "$$ CDF = I_{q}(n-k, 1+k) $$\n",
    "\n",
    "A single success/failure experiment is also called a <b>Bernoulli trial</b> or <b>Bernoulli experiment</b> and a sequence of outcomes is called a Bernoulli process.\n",
    "When estimating the standard error of a proportion in a population by using a random sample, the normal distribution works well unless the product p*n <=5, where p = population proportion estimate, and n = number of samples, in which case the binomial distribution is used instead.\n",
    "\n",
    "[1] https://en.wikipedia.org/wiki/Binomial_distribution\n",
    "\n",
    "[2] https://numpy.org/doc/1.18/reference/random/generated/numpy.random.Generator.binomial.html#numpy.random.Generator.binomial"
   ]
  },
  {
   "cell_type": "code",
   "execution_count": 10,
   "metadata": {},
   "outputs": [
    {
     "data": {
      "application/vnd.jupyter.widget-view+json": {
       "model_id": "442b20766c81444596d43fec2107d2fb",
       "version_major": 2,
       "version_minor": 0
      },
      "text/plain": [
       "interactive(children=(IntSlider(value=25, description='trials', max=50, min=1), FloatSlider(value=0.0, descrip…"
      ]
     },
     "metadata": {},
     "output_type": "display_data"
    },
    {
     "data": {
      "text/plain": [
       "<function __main__.binomial_dist(trials, prob, size)>"
      ]
     },
     "execution_count": 10,
     "metadata": {},
     "output_type": "execute_result"
    }
   ],
   "source": [
    "def binomial_dist(trials, prob, size):\n",
    "    x = np.random.logistic(trials, prob, size)\n",
    "    \n",
    "    fig, (ax1, ax2) = plt.subplots(1, 2, figsize=(10, 6))\n",
    "    \n",
    "    ax1.hist(x, bins=20, color='brown', alpha=.7)\n",
    "    ax1.set_ylabel('Sample Values')\n",
    "    ax1.set_title('Binomial Distribution')\n",
    "    \n",
    "    sns.distplot(x, bins=20, color='brown', ax=ax2)\n",
    "    ax2.set_ylabel('Probability')\n",
    "    ax2.set_title('Binomial Distribution + KDE')\n",
    "    \n",
    "    plt.draw()\n",
    "\n",
    "interact(binomial_dist, trials=(1,50,1), prob=(0,1,0.05), size=(10,500,10))"
   ]
  },
  {
   "cell_type": "markdown",
   "metadata": {},
   "source": [
    "### 10 - Weibull"
   ]
  },
  {
   "cell_type": "markdown",
   "metadata": {},
   "source": [
    "In probability theory and statistics, the <b>Weibull distribution</b> is a <i>continuous probability distribution</i>, also called Type III asymptotic extreme value distribution for smallest values, SEV Type III, or Rosin-Rammler distribution, and is one of a class of <b>Generalized Extreme Value (GEV) distributions</b> used in <b>modeling extreme value problems</b>. Ahead the PDF and CDF as functions of the scale ($\\lambda$) and shape ($k$):\n",
    "\n",
    "$$ PDF = \\begin{cases} \\frac{k}{\\lambda}(\\frac{x}{\\lambda})^{k-1} e^{-(x/\\lambda)^k}) \\rightarrow x \\ge 0 \\\\ 0 \\rightarrow x < 0 \\end{cases} $$\n",
    "\n",
    "$$ CDF = \\begin{cases} 1 - e^{(x-\\lambda)^k} \\rightarrow x \\ge 0 \\\\ 0 \\rightarrow x < 0 \\end{cases} $$\n",
    "\n",
    "The Weibull distribution is used in several different filds analysis, such as <i>survival analysis, electrical engineering, weather forecasting and wind power industry, used to describe wind speed distributions, hydrology, among others</i>.\n",
    "\n",
    "[1] https://en.wikipedia.org/wiki/Weibull_distribution\n",
    "\n",
    "[2] https://numpy.org/doc/1.18/reference/random/generated/numpy.random.Generator.weibull.html#numpy.random.Generator.weibull"
   ]
  },
  {
   "cell_type": "code",
   "execution_count": 11,
   "metadata": {},
   "outputs": [
    {
     "data": {
      "application/vnd.jupyter.widget-view+json": {
       "model_id": "4fe0e3b26ccc4d6dab29bb9017c0fbd3",
       "version_major": 2,
       "version_minor": 0
      },
      "text/plain": [
       "interactive(children=(FloatSlider(value=2.0, description='a', max=5.0), IntSlider(value=250, description='size…"
      ]
     },
     "metadata": {},
     "output_type": "display_data"
    },
    {
     "data": {
      "text/plain": [
       "<function __main__.weibull_dist(a, size)>"
      ]
     },
     "execution_count": 11,
     "metadata": {},
     "output_type": "execute_result"
    }
   ],
   "source": [
    "def weibull_dist(a, size):\n",
    "    x = np.random.weibull(a, size)\n",
    "    fig, (ax1, ax2) = plt.subplots(1,2, figsize=(10,6))\n",
    "    \n",
    "    ax1.hist(x, bins=20, color='grey', alpha=.8)\n",
    "    ax1.set_ylabel('Probability')\n",
    "    ax1.set_title('Weibull Distribution')\n",
    "    \n",
    "    sns.distplot(x, ax=ax2, color='grey', bins=20)\n",
    "    ax2.set_title('Weibull Distribution + KDE')\n",
    "    \n",
    "    plt.draw()\n",
    "\n",
    "interact(weibull_dist, a=(0,5,0.1), size=(10,500,10))"
   ]
  }
 ],
 "metadata": {
  "kernelspec": {
   "display_name": "Python 3",
   "language": "python",
   "name": "python3"
  },
  "language_info": {
   "codemirror_mode": {
    "name": "ipython",
    "version": 3
   },
   "file_extension": ".py",
   "mimetype": "text/x-python",
   "name": "python",
   "nbconvert_exporter": "python",
   "pygments_lexer": "ipython3",
   "version": "3.7.6"
  }
 },
 "nbformat": 4,
 "nbformat_minor": 4
}
